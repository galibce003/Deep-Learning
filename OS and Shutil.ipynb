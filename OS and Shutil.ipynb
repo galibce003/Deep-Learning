{
 "cells": [
  {
   "cell_type": "markdown",
   "metadata": {},
   "source": [
    "## Import the module"
   ]
  },
  {
   "cell_type": "code",
   "execution_count": 9,
   "metadata": {},
   "outputs": [],
   "source": [
    "import os\n",
    "import shutil"
   ]
  },
  {
   "cell_type": "markdown",
   "metadata": {},
   "source": [
    "## Let's see what os is able to do"
   ]
  },
  {
   "cell_type": "code",
   "execution_count": 11,
   "metadata": {},
   "outputs": [
    {
     "name": "stdout",
     "output_type": "stream",
     "text": [
      "['DirEntry', 'F_OK', 'MutableMapping', 'O_APPEND', 'O_BINARY', 'O_CREAT', 'O_EXCL', 'O_NOINHERIT', 'O_RANDOM', 'O_RDONLY', 'O_RDWR', 'O_SEQUENTIAL', 'O_SHORT_LIVED', 'O_TEMPORARY', 'O_TEXT', 'O_TRUNC', 'O_WRONLY', 'P_DETACH', 'P_NOWAIT', 'P_NOWAITO', 'P_OVERLAY', 'P_WAIT', 'PathLike', 'R_OK', 'SEEK_CUR', 'SEEK_END', 'SEEK_SET', 'TMP_MAX', 'W_OK', 'X_OK', '_Environ', '__all__', '__builtins__', '__cached__', '__doc__', '__file__', '__loader__', '__name__', '__package__', '__spec__', '_execvpe', '_exists', '_exit', '_fspath', '_get_exports_list', '_putenv', '_unsetenv', '_wrap_close', 'abc', 'abort', 'access', 'altsep', 'chdir', 'chmod', 'close', 'closerange', 'cpu_count', 'curdir', 'defpath', 'device_encoding', 'devnull', 'dup', 'dup2', 'environ', 'errno', 'error', 'execl', 'execle', 'execlp', 'execlpe', 'execv', 'execve', 'execvp', 'execvpe', 'extsep', 'fdopen', 'fsdecode', 'fsencode', 'fspath', 'fstat', 'fsync', 'ftruncate', 'get_exec_path', 'get_handle_inheritable', 'get_inheritable', 'get_terminal_size', 'getcwd', 'getcwdb', 'getenv', 'getlogin', 'getpid', 'getppid', 'isatty', 'kill', 'linesep', 'link', 'listdir', 'lseek', 'lstat', 'makedirs', 'mkdir', 'name', 'open', 'pardir', 'path', 'pathsep', 'pipe', 'popen', 'putenv', 'read', 'readlink', 'remove', 'removedirs', 'rename', 'renames', 'replace', 'rmdir', 'scandir', 'sep', 'set_handle_inheritable', 'set_inheritable', 'spawnl', 'spawnle', 'spawnv', 'spawnve', 'st', 'startfile', 'stat', 'stat_float_times', 'stat_result', 'statvfs_result', 'strerror', 'supports_bytes_environ', 'supports_dir_fd', 'supports_effective_ids', 'supports_fd', 'supports_follow_symlinks', 'symlink', 'sys', 'system', 'terminal_size', 'times', 'times_result', 'truncate', 'umask', 'uname_result', 'unlink', 'urandom', 'utime', 'waitpid', 'walk', 'write']\n"
     ]
    }
   ],
   "source": [
    "print(dir(os))"
   ]
  },
  {
   "cell_type": "markdown",
   "metadata": {},
   "source": [
    "<br/>\n",
    "\n",
    "## What is our current working directory"
   ]
  },
  {
   "cell_type": "code",
   "execution_count": 14,
   "metadata": {},
   "outputs": [
    {
     "name": "stdout",
     "output_type": "stream",
     "text": [
      "C:\\Users\\Mehedi Hassan Galib\\Desktop\\Python\\Competitions\\HackerEarth\\Friendship goals\n"
     ]
    }
   ],
   "source": [
    "print(os.getcwd())"
   ]
  },
  {
   "cell_type": "markdown",
   "metadata": {},
   "source": [
    "<br/>\n",
    "\n",
    "## Changing the current working directory\n",
    "After changing the current working directory, we will be able to read the file locating in that directory just by loading the name of the file. We won't need to mention the whole directories."
   ]
  },
  {
   "cell_type": "code",
   "execution_count": null,
   "metadata": {},
   "outputs": [],
   "source": [
    "#os.chdir('new directory')"
   ]
  },
  {
   "cell_type": "markdown",
   "metadata": {},
   "source": [
    "<br/>\n",
    "\n",
    "## Seeing all the files in a folder\n",
    "\n",
    "\n",
    "**Note:**  \n",
    "This fuction also listed the folders with files"
   ]
  },
  {
   "cell_type": "code",
   "execution_count": 17,
   "metadata": {},
   "outputs": [
    {
     "name": "stdout",
     "output_type": "stream",
     "text": [
      "['.ipynb_checkpoints', 'Filling Area on Line plots.ipynb', 'Histogram.ipynb', 'Pie Chart.ipynb', 'time series plot.ipynb']\n"
     ]
    }
   ],
   "source": [
    "print(os.listdir('C:/Users/Mehedi Hassan Galib/Desktop/Python/matplotlib'))"
   ]
  },
  {
   "cell_type": "markdown",
   "metadata": {},
   "source": [
    "<br/>\n",
    "\n",
    "## If I wanna see the files along with the folders files located in that folder"
   ]
  },
  {
   "cell_type": "code",
   "execution_count": 6,
   "metadata": {},
   "outputs": [
    {
     "name": "stdout",
     "output_type": "stream",
     "text": [
      "current path : C:/Users/Mehedi Hassan Galib/Desktop/Python/matplotlib\n",
      "\n",
      "Folder names : ['.ipynb_checkpoints', 'This is the 1st folder']\n",
      "\n",
      "Files : ['Filling Area on Line plots.ipynb', 'Histogram.ipynb', 'Pie Chart.ipynb', 'time series plot.ipynb']\n",
      "\n",
      "current path : C:/Users/Mehedi Hassan Galib/Desktop/Python/matplotlib\\.ipynb_checkpoints\n",
      "\n",
      "Folder names : []\n",
      "\n",
      "Files : ['Filling Area on Line plots-checkpoint.ipynb', 'Histogram-checkpoint.ipynb', 'Pie Chart-checkpoint.ipynb', 'time series plot-checkpoint.ipynb']\n",
      "\n",
      "current path : C:/Users/Mehedi Hassan Galib/Desktop/Python/matplotlib\\This is the 1st folder\n",
      "\n",
      "Folder names : ['new folder']\n",
      "\n",
      "Files : ['info_new.py']\n",
      "\n",
      "current path : C:/Users/Mehedi Hassan Galib/Desktop/Python/matplotlib\\This is the 1st folder\\new folder\n",
      "\n",
      "Folder names : ['a folder within new folder']\n",
      "\n",
      "Files : []\n",
      "\n",
      "current path : C:/Users/Mehedi Hassan Galib/Desktop/Python/matplotlib\\This is the 1st folder\\new folder\\a folder within new folder\n",
      "\n",
      "Folder names : []\n",
      "\n",
      "Files : []\n",
      "\n"
     ]
    }
   ],
   "source": [
    "folder = os.walk('C:/Users/Mehedi Hassan Galib/Desktop/Python/matplotlib')\n",
    "\n",
    "for current_path, folder_names, files in folder:\n",
    "    print('current path : {}\\n'.format(current_path))\n",
    "    print('Folder names : {}\\n'.format(folder_names))\n",
    "    print('Files : {}\\n'.format(files))"
   ]
  },
  {
   "cell_type": "markdown",
   "metadata": {},
   "source": [
    "<br/>\n",
    "\n",
    "## If I wanna get the directory of each files"
   ]
  },
  {
   "cell_type": "code",
   "execution_count": 27,
   "metadata": {},
   "outputs": [
    {
     "name": "stdout",
     "output_type": "stream",
     "text": [
      "C:\\Users\\Mehedi Hassan Galib\\Desktop\\Python\\matplotlib\\.ipynb_checkpoints\n",
      "C:\\Users\\Mehedi Hassan Galib\\Desktop\\Python\\matplotlib\\Filling Area on Line plots.ipynb\n",
      "C:\\Users\\Mehedi Hassan Galib\\Desktop\\Python\\matplotlib\\Histogram.ipynb\n",
      "C:\\Users\\Mehedi Hassan Galib\\Desktop\\Python\\matplotlib\\Pie Chart.ipynb\n",
      "C:\\Users\\Mehedi Hassan Galib\\Desktop\\Python\\matplotlib\\This is the 1st folder\n",
      "C:\\Users\\Mehedi Hassan Galib\\Desktop\\Python\\matplotlib\\time series plot.ipynb\n"
     ]
    }
   ],
   "source": [
    "for item in os.listdir('C:/Users/Mehedi Hassan Galib/Desktop/Python/matplotlib'):\n",
    "    print(r'C:\\Users\\Mehedi Hassan Galib\\Desktop\\Python\\matplotlib' + '\\\\' + item)"
   ]
  },
  {
   "cell_type": "markdown",
   "metadata": {},
   "source": [
    "<br/>\n",
    "\n",
    "## Number of files"
   ]
  },
  {
   "cell_type": "code",
   "execution_count": 16,
   "metadata": {},
   "outputs": [
    {
     "data": {
      "text/plain": [
       "5"
      ]
     },
     "execution_count": 16,
     "metadata": {},
     "output_type": "execute_result"
    }
   ],
   "source": [
    "len(os.listdir('C:/Users/Mehedi Hassan Galib/Desktop/Python/matplotlib'))"
   ]
  },
  {
   "cell_type": "markdown",
   "metadata": {},
   "source": [
    "<br/>\n",
    "\n",
    "## Creating a new folder"
   ]
  },
  {
   "cell_type": "code",
   "execution_count": 18,
   "metadata": {},
   "outputs": [],
   "source": [
    "os.mkdir('C:/Users/Mehedi Hassan Galib/Desktop/Python/matplotlib/This is the 1st folder')"
   ]
  },
  {
   "cell_type": "markdown",
   "metadata": {},
   "source": [
    "<br/>\n",
    "\n",
    "## Creating a folder within a new folder"
   ]
  },
  {
   "cell_type": "code",
   "execution_count": 19,
   "metadata": {},
   "outputs": [],
   "source": [
    "os.makedirs('C:/Users/Mehedi Hassan Galib/Desktop/Python/matplotlib/This is the 1st folder/new folder/a folder within new folder')"
   ]
  },
  {
   "cell_type": "markdown",
   "metadata": {},
   "source": [
    "<br/>\n",
    "\n",
    "## Renaming a file"
   ]
  },
  {
   "cell_type": "code",
   "execution_count": 20,
   "metadata": {},
   "outputs": [],
   "source": [
    "os.rename('C:/Users/Mehedi Hassan Galib/Desktop/Python/matplotlib/This is the 1st folder/info.py', 'C:/Users/Mehedi Hassan Galib/Desktop/Python/matplotlib/This is the 1st folder/info_new.py')"
   ]
  },
  {
   "cell_type": "markdown",
   "metadata": {},
   "source": [
    "<br/>\n",
    "\n",
    "## Checking if a directory exists or not"
   ]
  },
  {
   "cell_type": "code",
   "execution_count": 24,
   "metadata": {},
   "outputs": [
    {
     "name": "stdout",
     "output_type": "stream",
     "text": [
      "True\n",
      "False\n"
     ]
    }
   ],
   "source": [
    "check1 = os.path.exists('C:/Users/Mehedi Hassan Galib')\n",
    "print(check1)\n",
    "\n",
    "check2 = os.path.exists('C:/Users/Mehedi Hassan balib')\n",
    "print(check2)"
   ]
  },
  {
   "cell_type": "markdown",
   "metadata": {},
   "source": [
    "<br/>\n",
    "\n",
    "## Removing a folder\n",
    "**Note:**  \n",
    "    rmdir only works with the folder which is empty"
   ]
  },
  {
   "cell_type": "code",
   "execution_count": 7,
   "metadata": {},
   "outputs": [],
   "source": [
    "os.rmdir('C:/Users/Mehedi Hassan Galib/Desktop/Python/matplotlib/This is the 1st folder/new folder/a folder within new folder')"
   ]
  },
  {
   "cell_type": "markdown",
   "metadata": {},
   "source": [
    "<br/> \n",
    "\n",
    "## Solution"
   ]
  },
  {
   "cell_type": "code",
   "execution_count": 10,
   "metadata": {},
   "outputs": [],
   "source": [
    "shutil.rmtree('C:/Users/Mehedi Hassan Galib/Desktop/Python/matplotlib/This is the 1st folder')"
   ]
  },
  {
   "cell_type": "markdown",
   "metadata": {},
   "source": [
    "<br/>\n",
    "\n",
    "## Copying with shutil (folder)"
   ]
  },
  {
   "cell_type": "code",
   "execution_count": 13,
   "metadata": {},
   "outputs": [],
   "source": [
    "#shutil.copytree('which I want to copy', 'where I want to copy')"
   ]
  },
  {
   "cell_type": "markdown",
   "metadata": {},
   "source": [
    "<br/>\n",
    "\n",
    "## Copying with shutil (file)"
   ]
  },
  {
   "cell_type": "code",
   "execution_count": 15,
   "metadata": {},
   "outputs": [],
   "source": [
    "#shutil.copy('filename with path I want to copy', 'where I want to copy / filename by which the copied version of the file will be stored')"
   ]
  },
  {
   "cell_type": "markdown",
   "metadata": {},
   "source": [
    "<br/>\n",
    "\n",
    "## Moving with shutil (folder)"
   ]
  },
  {
   "cell_type": "code",
   "execution_count": 19,
   "metadata": {},
   "outputs": [],
   "source": [
    "#shutil.move('foldername with path I want to move', 'where I want to move / foldername')"
   ]
  },
  {
   "cell_type": "markdown",
   "metadata": {},
   "source": [
    "<br/>\n",
    "\n",
    "## Moving with shutil (file)"
   ]
  },
  {
   "cell_type": "code",
   "execution_count": 17,
   "metadata": {},
   "outputs": [],
   "source": [
    "#shutil.move('filename with path I want to move', 'where I want to move / filename by which the moved version of the file will be stored')"
   ]
  }
 ],
 "metadata": {
  "kernelspec": {
   "display_name": "Python 3",
   "language": "python",
   "name": "python3"
  },
  "language_info": {
   "codemirror_mode": {
    "name": "ipython",
    "version": 3
   },
   "file_extension": ".py",
   "mimetype": "text/x-python",
   "name": "python",
   "nbconvert_exporter": "python",
   "pygments_lexer": "ipython3",
   "version": "3.6.8"
  }
 },
 "nbformat": 4,
 "nbformat_minor": 4
}
